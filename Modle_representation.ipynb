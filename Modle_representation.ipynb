{
  "nbformat": 4,
  "nbformat_minor": 0,
  "metadata": {
    "colab": {
      "provenance": [],
      "authorship_tag": "ABX9TyPr76Lk8aRlhOQSRRAJk8du",
      "include_colab_link": true
    },
    "kernelspec": {
      "name": "python3",
      "display_name": "Python 3"
    },
    "language_info": {
      "name": "python"
    }
  },
  "cells": [
    {
      "cell_type": "markdown",
      "metadata": {
        "id": "view-in-github",
        "colab_type": "text"
      },
      "source": [
        "<a href=\"https://colab.research.google.com/github/syamsahu/MachineLearning_Coursera/blob/main/Modle_representation.ipynb\" target=\"_parent\"><img src=\"https://colab.research.google.com/assets/colab-badge.svg\" alt=\"Open In Colab\"/></a>"
      ]
    },
    {
      "cell_type": "code",
      "execution_count": 6,
      "metadata": {
        "id": "svuigwlspHcd"
      },
      "outputs": [],
      "source": [
        "import numpy as np\n",
        "import matplotlib.pyplot as plt"
      ]
    },
    {
      "cell_type": "markdown",
      "source": [
        "Create a small training set of x and y inputs"
      ],
      "metadata": {
        "id": "fxT6QDjwrrlG"
      }
    },
    {
      "cell_type": "code",
      "source": [
        "x_train = np.array([1.0 , 2.0, 3.0 , 1.8])\n",
        "y_train = np.array([300.0, 500.0 , 650.0, 450.0])\n",
        "print('x_train =', x_train, '; y_train =', y_train)\n",
        "print('x_train shape =', x_train.shape, '; y_train shape =', y_train.shape)\n",
        "print('Examples in x_train =', len(x_train), '; Examples in y_train =', len(y_train))"
      ],
      "metadata": {
        "id": "--kpcEHQpfWK",
        "outputId": "beef9f23-3b49-4b8e-cfd3-288d2c7153b6",
        "colab": {
          "base_uri": "https://localhost:8080/"
        }
      },
      "execution_count": 15,
      "outputs": [
        {
          "output_type": "stream",
          "name": "stdout",
          "text": [
            "x_train = [1.  2.  3.  1.8] ; y_train = [300. 500. 650. 450.]\n",
            "x_train shape = (4,) ; y_train shape = (4,)\n",
            "Examples in x_train = 4 ; Examples in y_train = 4\n"
          ]
        }
      ]
    },
    {
      "cell_type": "markdown",
      "source": [
        "Plot the initial data to get an estimate of the dataset that we are working with"
      ],
      "metadata": {
        "id": "17XXj_aYrzw1"
      }
    },
    {
      "cell_type": "code",
      "source": [
        "plt.scatter(x_train, y_train)\n",
        "plt.xlabel('size of house in 1000 sqft')\n",
        "plt.ylabel('price of house in thousands of dollars')\n",
        "plt.title('Price of house vs size of house')\n",
        "plt.show()"
      ],
      "metadata": {
        "colab": {
          "base_uri": "https://localhost:8080/",
          "height": 295
        },
        "id": "fqvjCpY7roCR",
        "outputId": "3bf88b9b-1def-43ea-a26b-0d88dabe0e01"
      },
      "execution_count": 16,
      "outputs": [
        {
          "output_type": "display_data",
          "data": {
            "text/plain": [
              "<Figure size 432x288 with 1 Axes>"
            ],
            "image/png": "[encoded data removed]"
          },
          "metadata": {
            "needs_background": "light"
          }
        }
      ]
    },
    {
      "cell_type": "code",
      "source": [
        "w = 200\n",
        "b = 100"
      ],
      "metadata": {
        "id": "k9Cn5yIGwCTx"
      },
      "execution_count": 88,
      "outputs": []
    },
    {
      "cell_type": "code",
      "source": [
        "def model_output(x, w, b):\n",
        "  f_wb = w*x + b\n",
        "  return f_wb"
      ],
      "metadata": {
        "id": "jbZuzYXEwL6o"
      },
      "execution_count": 89,
      "outputs": []
    },
    {
      "cell_type": "code",
      "source": [
        "y_pred = model_output(x_train, w, b)"
      ],
      "metadata": {
        "id": "Z4m44XrKwvl0"
      },
      "execution_count": 90,
      "outputs": []
    },
    {
      "cell_type": "code",
      "source": [
        "plt.scatter(x_train, y_train)\n",
        "plt.plot(x_train, y_pred, c = 'r')\n",
        "plt.xlabel('size of house in 1000 sqft')\n",
        "plt.ylabel('price of house in thousands of dollars')\n",
        "plt.title('Price of house vs size of house')\n",
        "plt.show()"
      ],
      "metadata": {
        "colab": {
          "base_uri": "https://localhost:8080/",
          "height": 295
        },
        "id": "HeC_YxXQx7TY",
        "outputId": "ca14950f-2fa3-490a-9995-5dd9b5f92987"
      },
      "execution_count": 91,
      "outputs": [
        {
          "output_type": "display_data",
          "data": {
            "text/plain": [
              "<Figure size 432x288 with 1 Axes>"
            ],
            "image/png": "[encoded data removed]"
          },
          "metadata": {
            "needs_background": "light"
          }
        }
      ]
    },
    {
      "cell_type": "code",
      "source": [
        "def cost_function(x,y, w, b ):\n",
        "  y_pred = model_output(x,w,b)\n",
        "  y_diff = y_pred - y \n",
        "  y_diff2 = y_diff*y_diff\n",
        "  cost = sum(y_diff2) / (2*y_pred.shape[0])\n",
        "  return cost"
      ],
      "metadata": {
        "id": "YgR5Txc22yjZ"
      },
      "execution_count": 52,
      "outputs": []
    },
    {
      "cell_type": "code",
      "source": [
        "learning_rate = 0.001"
      ],
      "metadata": {
        "id": "yyoO2wUw4FnT"
      },
      "execution_count": 53,
      "outputs": []
    },
    {
      "cell_type": "code",
      "source": [
        "def gradient_descent(x,y,w,b, lr):\n",
        "  y_pred = model_output(x,w,b)\n",
        "  y_diff = y_pred - y\n",
        "  descent = lr*y_diff/x.shape[0]\n",
        "  x_descent = descent*x\n",
        "  wO = w - sum(x_descent)\n",
        "  bO = b - sum(descent)\n",
        "  return [wO,bO]"
      ],
      "metadata": {
        "id": "Me4vSzAR5LLW"
      },
      "execution_count": 68,
      "outputs": []
    },
    {
      "cell_type": "code",
      "source": [
        "gradient_descent(x_train, y_train, 0, 0, learning_rate)"
      ],
      "metadata": {
        "colab": {
          "base_uri": "https://localhost:8080/"
        },
        "id": "gXEm6zPV5_xb",
        "outputId": "04a612cc-d1f9-45f9-8eae-e265be0375b1"
      },
      "execution_count": 66,
      "outputs": [
        {
          "output_type": "execute_result",
          "data": {
            "text/plain": [
              "[1.0150000000000001, 0.47500000000000003]"
            ]
          },
          "metadata": {},
          "execution_count": 66
        }
      ]
    },
    {
      "cell_type": "code",
      "source": [
        "def calculate_optimum_param(x_train, y_train, lr):\n",
        "  w=0\n",
        "  b=0\n",
        "  cost_now = cost_function(x_train, y_train, w, b)\n",
        "  count = 0\n",
        "  while True:\n",
        "    wO,bO = gradient_descent(x_train, y_train, w, b, lr )\n",
        "    cost_new = cost_function(x_train, y_train, wO,bO)\n",
        "    if cost_new < cost_now:\n",
        "      w=wO\n",
        "      b=bO\n",
        "      cost_now = cost_new\n",
        "      count += 1\n",
        "    else:\n",
        "      print('No. of steps taken:', count, 'to reach ', w, b)\n",
        "      break\n",
        "  return [w,b]\n"
      ],
      "metadata": {
        "id": "EM9cW7BR6Uip"
      },
      "execution_count": 104,
      "outputs": []
    },
    {
      "cell_type": "code",
      "source": [
        "w,b = calculate_optimum_param(x_train, y_train, 0.01)\n",
        "y_pred = model_output(x_train, w, b)\n",
        "plt.scatter(x_train, y_train)\n",
        "plt.plot(x_train, y_pred, c = 'r')\n",
        "plt.xlabel('size of house in 1000 sqft')\n",
        "plt.ylabel('price of house in thousands of dollars')\n",
        "plt.title('Price of house vs size of house')\n",
        "plt.show()"
      ],
      "metadata": {
        "colab": {
          "base_uri": "https://localhost:8080/",
          "height": 313
        },
        "id": "oDYJbt1S-ngt",
        "outputId": "eba6152d-b761-430c-cadb-e1f8a0b71488"
      },
      "execution_count": 106,
      "outputs": [
        {
          "output_type": "stream",
          "name": "stdout",
          "text": [
            "No. of steps taken: 13818 to reach  174.87687615146064 133.99008543439956\n"
          ]
        },
        {
          "output_type": "display_data",
          "data": {
            "text/plain": [
              "<Figure size 432x288 with 1 Axes>"
            ],
            "image/png": "[encoded data removed]"
          },
          "metadata": {
            "needs_background": "light"
          }
        }
      ]
    },
    {
      "cell_type": "code",
      "source": [],
      "metadata": {
        "id": "xF5f9erS9Do9"
      },
      "execution_count": null,
      "outputs": []
    }
  ]
}